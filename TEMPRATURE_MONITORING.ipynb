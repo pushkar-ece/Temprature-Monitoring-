{
  "nbformat": 4,
  "nbformat_minor": 0,
  "metadata": {
    "colab": {
      "provenance": []
    },
    "kernelspec": {
      "name": "python3",
      "display_name": "Python 3"
    },
    "language_info": {
      "name": "python"
    }
  },
  "cells": [
    {
      "cell_type": "code",
      "execution_count": 5,
      "metadata": {
        "colab": {
          "base_uri": "https://localhost:8080/",
          "height": 1000
        },
        "id": "f_NtaELXjDuZ",
        "outputId": "efd5167c-50dc-4c87-a9ca-6488e7e721f1"
      },
      "outputs": [
        {
          "output_type": "stream",
          "name": "stdout",
          "text": [
            "Enter the lower temperature threshold: 10\n",
            "Enter the upper temperature threshold: 30\n",
            "Enter the check interval (in seconds): 2\n",
            "Current Temperature: 26.63°C\n",
            "Current Temperature: 0.53°C\n",
            "ALERT! Low Temperature Detected!\n",
            "Current Temperature: 35.47°C\n",
            "ALERT! High Temperature Detected!\n",
            "Current Temperature: 40.43°C\n",
            "ALERT! High Temperature Detected!\n",
            "Current Temperature: 17.55°C\n",
            "Current Temperature: 31.26°C\n",
            "ALERT! High Temperature Detected!\n",
            "Current Temperature: 34.39°C\n",
            "ALERT! High Temperature Detected!\n",
            "Current Temperature: -7.08°C\n",
            "ALERT! Low Temperature Detected!\n",
            "Current Temperature: -0.26°C\n",
            "ALERT! Low Temperature Detected!\n",
            "Current Temperature: -6.83°C\n",
            "ALERT! Low Temperature Detected!\n",
            "Current Temperature: 8.88°C\n",
            "ALERT! Low Temperature Detected!\n",
            "Current Temperature: 36.36°C\n",
            "ALERT! High Temperature Detected!\n",
            "Current Temperature: 0.6°C\n",
            "ALERT! Low Temperature Detected!\n",
            "Current Temperature: -6.78°C\n",
            "ALERT! Low Temperature Detected!\n",
            "Current Temperature: 6.25°C\n",
            "ALERT! Low Temperature Detected!\n",
            "Current Temperature: -0.5°C\n",
            "ALERT! Low Temperature Detected!\n",
            "Current Temperature: 12.58°C\n",
            "Current Temperature: 0.92°C\n",
            "ALERT! Low Temperature Detected!\n",
            "Current Temperature: 24.19°C\n",
            "Current Temperature: 18.16°C\n",
            "Current Temperature: 46.15°C\n",
            "ALERT! High Temperature Detected!\n",
            "Current Temperature: 34.49°C\n",
            "ALERT! High Temperature Detected!\n",
            "Current Temperature: -6.67°C\n",
            "ALERT! Low Temperature Detected!\n",
            "Current Temperature: 34.23°C\n",
            "ALERT! High Temperature Detected!\n",
            "Current Temperature: 20.25°C\n",
            "Current Temperature: 36.88°C\n",
            "ALERT! High Temperature Detected!\n",
            "Current Temperature: 21.8°C\n",
            "Current Temperature: 44.87°C\n",
            "ALERT! High Temperature Detected!\n",
            "Current Temperature: -1.09°C\n",
            "ALERT! Low Temperature Detected!\n",
            "Current Temperature: -8.93°C\n",
            "ALERT! Low Temperature Detected!\n",
            "Current Temperature: 0.53°C\n",
            "ALERT! Low Temperature Detected!\n",
            "Current Temperature: 15.93°C\n",
            "Current Temperature: 32.64°C\n",
            "ALERT! High Temperature Detected!\n",
            "Current Temperature: 42.19°C\n",
            "ALERT! High Temperature Detected!\n",
            "Current Temperature: 15.56°C\n",
            "Current Temperature: 3.86°C\n",
            "ALERT! Low Temperature Detected!\n",
            "Current Temperature: 42.22°C\n",
            "ALERT! High Temperature Detected!\n",
            "Current Temperature: 34.91°C\n",
            "ALERT! High Temperature Detected!\n",
            "Current Temperature: 40.89°C\n",
            "ALERT! High Temperature Detected!\n",
            "Current Temperature: 33.93°C\n",
            "ALERT! High Temperature Detected!\n",
            "Current Temperature: -0.95°C\n",
            "ALERT! Low Temperature Detected!\n"
          ]
        },
        {
          "output_type": "error",
          "ename": "KeyboardInterrupt",
          "evalue": "",
          "traceback": [
            "\u001b[0;31m---------------------------------------------------------------------------\u001b[0m",
            "\u001b[0;31mKeyboardInterrupt\u001b[0m                         Traceback (most recent call last)",
            "\u001b[0;32m<ipython-input-5-d93dbe1bfa09>\u001b[0m in \u001b[0;36m<cell line: 0>\u001b[0;34m()\u001b[0m\n\u001b[1;32m     21\u001b[0m     \u001b[0mupper_limit\u001b[0m \u001b[0;34m=\u001b[0m \u001b[0mfloat\u001b[0m\u001b[0;34m(\u001b[0m\u001b[0minput\u001b[0m\u001b[0;34m(\u001b[0m\u001b[0;34m\"Enter the upper temperature threshold: \"\u001b[0m\u001b[0;34m)\u001b[0m\u001b[0;34m)\u001b[0m\u001b[0;34m\u001b[0m\u001b[0;34m\u001b[0m\u001b[0m\n\u001b[1;32m     22\u001b[0m     \u001b[0minterval\u001b[0m \u001b[0;34m=\u001b[0m \u001b[0mint\u001b[0m\u001b[0;34m(\u001b[0m\u001b[0minput\u001b[0m\u001b[0;34m(\u001b[0m\u001b[0;34m\"Enter the check interval (in seconds): \"\u001b[0m\u001b[0;34m)\u001b[0m\u001b[0;34m)\u001b[0m\u001b[0;34m\u001b[0m\u001b[0;34m\u001b[0m\u001b[0m\n\u001b[0;32m---> 23\u001b[0;31m     \u001b[0mmonitor_temperature\u001b[0m\u001b[0;34m(\u001b[0m\u001b[0mlower_limit\u001b[0m\u001b[0;34m,\u001b[0m \u001b[0mupper_limit\u001b[0m\u001b[0;34m,\u001b[0m \u001b[0minterval\u001b[0m\u001b[0;34m)\u001b[0m\u001b[0;34m\u001b[0m\u001b[0;34m\u001b[0m\u001b[0m\n\u001b[0m",
            "\u001b[0;32m<ipython-input-5-d93dbe1bfa09>\u001b[0m in \u001b[0;36mmonitor_temperature\u001b[0;34m(lower_threshold, upper_threshold, check_interval)\u001b[0m\n\u001b[1;32m     15\u001b[0m             \u001b[0mprint\u001b[0m\u001b[0;34m(\u001b[0m\u001b[0;34m\"ALERT! Low Temperature Detected!\"\u001b[0m\u001b[0;34m)\u001b[0m\u001b[0;34m\u001b[0m\u001b[0;34m\u001b[0m\u001b[0m\n\u001b[1;32m     16\u001b[0m \u001b[0;34m\u001b[0m\u001b[0m\n\u001b[0;32m---> 17\u001b[0;31m         \u001b[0mtime\u001b[0m\u001b[0;34m.\u001b[0m\u001b[0msleep\u001b[0m\u001b[0;34m(\u001b[0m\u001b[0mcheck_interval\u001b[0m\u001b[0;34m)\u001b[0m\u001b[0;34m\u001b[0m\u001b[0;34m\u001b[0m\u001b[0m\n\u001b[0m\u001b[1;32m     18\u001b[0m \u001b[0;34m\u001b[0m\u001b[0m\n\u001b[1;32m     19\u001b[0m \u001b[0;32mif\u001b[0m \u001b[0m__name__\u001b[0m \u001b[0;34m==\u001b[0m \u001b[0;34m\"__main__\"\u001b[0m\u001b[0;34m:\u001b[0m\u001b[0;34m\u001b[0m\u001b[0;34m\u001b[0m\u001b[0m\n",
            "\u001b[0;31mKeyboardInterrupt\u001b[0m: "
          ]
        }
      ],
      "source": [
        "import time\n",
        "import random\n",
        "\n",
        "def get_temperature():\n",
        "    return round(random.uniform(-10, 50), 2)\n",
        "\n",
        "def monitor_temperature(lower_threshold, upper_threshold, check_interval=5):\n",
        "    while True:\n",
        "        temperature = get_temperature()\n",
        "        print(f\"Current Temperature: {temperature}°C\")\n",
        "\n",
        "        if temperature > upper_threshold:\n",
        "            print(\"ALERT! High Temperature Detected!\")\n",
        "        elif temperature < lower_threshold:\n",
        "            print(\"ALERT! Low Temperature Detected!\")\n",
        "\n",
        "        time.sleep(check_interval)\n",
        "\n",
        "if __name__ == \"__main__\":\n",
        "    lower_limit = float(input(\"Enter the lower temperature threshold: \"))\n",
        "    upper_limit = float(input(\"Enter the upper temperature threshold: \"))\n",
        "    interval = int(input(\"Enter the check interval (in seconds): \"))\n",
        "    monitor_temperature(lower_limit, upper_limit, interval)"
      ]
    },
    {
      "cell_type": "code",
      "source": [],
      "metadata": {
        "id": "-RhH_yUGkDx7"
      },
      "execution_count": null,
      "outputs": []
    }
  ]
}